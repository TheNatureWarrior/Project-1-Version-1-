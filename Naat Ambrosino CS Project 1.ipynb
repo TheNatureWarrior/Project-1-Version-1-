{
 "cells": [
  {
   "cell_type": "markdown",
   "id": "0213b765",
   "metadata": {},
   "source": [
    "# Naat Ambrosino Group Project 1\n",
    "## CS 150 01 FA21 Professor Sarkar\n",
    "### Version 1, Rock Paper Scissors, Single Round and Multi-Round"
   ]
  },
  {
   "cell_type": "code",
   "execution_count": 18,
   "id": "819ed0f5",
   "metadata": {},
   "outputs": [],
   "source": [
    "#use random.choice for hard"
   ]
  },
  {
   "cell_type": "code",
   "execution_count": 2,
   "id": "768f94a3",
   "metadata": {},
   "outputs": [
    {
     "name": "stdout",
     "output_type": "stream",
     "text": [
      "Rock, paper, scissors, shoot!  a\n",
      "PC threw paper!\n",
      "Unknown error\n"
     ]
    }
   ],
   "source": [
    "#single round, with a tie (rock vs rock, scissors vs scissors, paper vs paper) causing it to repeat\n",
    "#'inputs' for function are in lines 25-31, function stuff is 4-24. \n",
    "import random\n",
    "def RPS(): #RPS stands for rock paper scissors\n",
    "    print(f'PC threw {pcThrow}!') #telling what PC threw, will show after player inputs but before result (for aesthetics)\n",
    "    if throw==pcThrow: #if tie....\n",
    "        return \"Tie! Try again!\" #Say tie.\n",
    "    elif throw==\"rock\": #elif, so if its not a tie, and player threw rock, PC didnt throw rock. Win or loss.\n",
    "        if pcThrow==\"scissors\": #PC throws scissors...\n",
    "            return \"Rock beats scissors! You win!\" #... and rock beats scissors. Player wins.\n",
    "        else: #Pc throws paper, and we know it has to throw paper since already covered if threw rock (6-7), and if threw scissors(9-10), so must be paper as PC only has those choices.\n",
    "            return \"Paper beats rock! You lose.\" # rock loses to paper, PC wins.\n",
    "    elif throw==\"paper\": #repeat with player throwing paper\n",
    "        if pcThrow==\"rock\":\n",
    "            return \"Paper beats rock! You win!\"\n",
    "        else:\n",
    "            return \"Scissors beat paper! You lose.\"\n",
    "    elif throw==\"scissors\": #repeat with player throwing scissors\n",
    "        if pcThrow==\"paper\":\n",
    "            return \"Scissors beat paper! You win!\"\n",
    "        else:\n",
    "            return \"Rock beats scissors! You lose.\"\n",
    "    else: #if something weird happens, like a typo or invalid string input.\n",
    "        return \"Unknown error\"\n",
    "pcThrow=\"doesnt matter\" #because it hasn't been inputted yet but must be a value for the sake of it working. Little joke on my part.\n",
    "throw=pcThrow #so that it's functionally a 'tie' and will enter loop for the first time\n",
    "while throw==pcThrow: #for first time, both = doesnt matter, so will enter. After, will stay in loop until not a tie.\n",
    "    throw=input(\"Rock, paper, scissors, shoot!  \") #asking player what to throw\n",
    "    throw=throw.lower() #standardizing the input into all lower case, so paper=Paper=PAPER etc etc.\n",
    "    pcThrow=random.choice([\"rock\",\"paper\",\"scissors\"]) #making the PC choose which to throw.\n",
    "    print(RPS()) #running function."
   ]
  },
  {
   "cell_type": "code",
   "execution_count": 3,
   "id": "99b15f39",
   "metadata": {},
   "outputs": [
    {
     "name": "stdout",
     "output_type": "stream",
     "text": [
      "How many rounds?: 3\n",
      "Rock, paper, scissors, shoot!  n\n",
      "PC threw scissors!\n",
      "Unknown error\n",
      "Rock, paper, scissors, shoot!  rock\n",
      "PC threw rock!\n",
      "Tie!\n",
      "Rock, paper, scissors, shoot!  rock\n",
      "PC threw rock!\n",
      "Tie!\n",
      "Rock, paper, scissors, shoot!  rock\n",
      "PC threw scissors!\n",
      "Rock beats scissors! You win!\n",
      "You win!\n"
     ]
    }
   ],
   "source": [
    "#Best of inputted amount of rounds\n",
    "import random\n",
    "import math\n",
    "wins=0\n",
    "#positive wins is player, computer wins is in negative direction\n",
    "rounds=1\n",
    "#Did this instead of =0 so that calculating the best of inputted rounds would work. Does make the first round \"round 2\" but it doesn't seem to effect the program other than that.\n",
    "totalRoundsWanted=int(input(\"How many rounds?: \"))\n",
    "#asking player how many rounds they want\n",
    "def RPStrackWins():\n",
    "    global wins # would not work until I did this, said undefined local variable or something. So reminded it was global\n",
    "    print(f'PC threw {pcThrow}!') #Tells player what computer threw\n",
    "    if throw==pcThrow:\n",
    "        return \"Tie!\" #If player and computer do same thing, tie. No win increment/decrement.\n",
    "    elif throw==\"rock\": #Going thro list of rock, paper, scissors with elifs (for when not a tie)\n",
    "        if pcThrow==\"scissors\": \n",
    "            wins+=1 #PLayer throws rock, pc throws scissors, player wins, +1 to wins variable. \n",
    "            return \"Rock beats scissors! You win!\" #Telling player they won that round\n",
    "        elif pcThrow==\"paper\":\n",
    "            wins -= 1 #Player throws rock, pc throws paper, pc wins, -1 to wins variable.\n",
    "            return \"Paper beats rock! You lose.\" #telling player lost that round\n",
    "    elif throw==\"paper\":  #rinse repeat with paper\n",
    "        if pcThrow==\"rock\":\n",
    "            wins+=1\n",
    "            return \"Paper beats rock! You win!\"\n",
    "        elif pcThrow==\"scissors\":\n",
    "            wins -= 1\n",
    "            return \"Scissors beat paper! You lose.\"\n",
    "    elif throw==\"scissors\": #rinse repeat with scissors\n",
    "        if pcThrow==\"paper\":\n",
    "            wins+=1\n",
    "            return \"Scissors beat paper! You win!\"\n",
    "        elif pcThrow==\"rock\":\n",
    "            wins-=1\n",
    "            return \"Rock beats scissors! You lose.\"\n",
    "    else: #In case something weird happens. For example, if someone makes a typo or puts in random word. Counts as a tie.\n",
    "        return \"Unknown error\"\n",
    "while (wins==0 or rounds<=totalRoundsWanted) and abs(wins)<(math.floor(totalRoundsWanted/2)+1):\n",
    "    #if majority has been won by computer or player, stop. Else, if no one has more wins than another (wins==0) or rounds aren't up to the total rounds requested, continue. Basically sends into sudden death if PC and player tied after alloted amount of rounds.\n",
    "    rounds+=1 #incrementing rounds each time it loops.\n",
    "    throw=input(\"Rock, paper, scissors, shoot!  \") #asking player what they throw\n",
    "    throw=throw.lower() #standardizing input so Rock=rock=ROCK=roCK, etc etc. Takes lower case.\n",
    "    pcThrow=random.choice([\"rock\",\"paper\",\"scissors\"]) #deciding what computer throws.\n",
    "    print(RPStrackWins()) #running and returning function\n",
    "#After loop ends, returns who won overall.\n",
    "if wins>0: # if wins is positive after loop ends, since player wins in positive direction, says player wins.\n",
    "    print(\"You win!\")\n",
    "else: # if wins is negative, (else), says PC wins (player lost).\n",
    "    print(\"You lost!\")"
   ]
  },
  {
   "cell_type": "raw",
   "id": "35dd6c51",
   "metadata": {},
   "source": []
  }
 ],
 "metadata": {
  "kernelspec": {
   "display_name": "Python 3",
   "language": "python",
   "name": "python3"
  },
  "language_info": {
   "codemirror_mode": {
    "name": "ipython",
    "version": 3
   },
   "file_extension": ".py",
   "mimetype": "text/x-python",
   "name": "python",
   "nbconvert_exporter": "python",
   "pygments_lexer": "ipython3",
   "version": "3.8.8"
  }
 },
 "nbformat": 4,
 "nbformat_minor": 5
}
